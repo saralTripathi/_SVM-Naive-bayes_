{
  "nbformat": 4,
  "nbformat_minor": 0,
  "metadata": {
    "colab": {
      "provenance": []
    },
    "kernelspec": {
      "name": "python3",
      "display_name": "Python 3"
    },
    "language_info": {
      "name": "python"
    }
  },
  "cells": [
    {
      "cell_type": "markdown",
      "source": [
        "1. What is a Support Vector Machine (SVM).\n",
        "   - A Support Vector Machine (SVM) is a supervised machine learning algorithm used for classification and regression tasks, but it is more commonly used for classification.\n",
        " - SVM aims to find the optimal hyperplane that best separates the data points of different classes in a high-dimensional space.\n",
        "2. What is the difference between Hard Margin and Soft Margin SVM?\n",
        "   - Hard Margin SVM:\n",
        "      - It tries to find a hyperplane that perfectly separates the classes without any misclassifications.\n",
        "      - The data is linearly separable — no overlap between classes.\n",
        "      - Zero tolerance for errors (no misclassified points).\n",
        "      - Not robust to noise or outliers; fails if even one point is misclassified.\n",
        "      - use when data is clean and perfectly separable.\n",
        "  - Soft Margin SVM:\n",
        "      - Allows some misclassifications or margin violations to achieve better generalization.\n",
        "      - The data is not perfectly separable\n",
        "      -  Introduces a slack variable (ξ) to allow violations.\n",
        "      - Balances margin size with classification error using a parameter C (regularization parameter).\n",
        "      - use when Data is noisy, overlapping, or not linearly separable.\n",
        "3.  What is the mathematical intuition behind SVM.\n",
        "    - The mathematical intuition behind SVM revolves around finding the optimal hyperplane that maximizes the margin between two classes of data.\n",
        "    - Objective is To maximize the margin between the classes while minimizing misclassification.\n",
        "4. What is the role of Lagrange Multipliers in SVM?\n",
        "   - The Lagrange multipliers play a crucial role in solving the optimization problem in SVM using the dual formulation. They allow the use of constraints and enable the powerful kernel trick.\n",
        "\n",
        "  - SVM aims to solve a constrained optimization problem — maximize the margin while satisfying classification constraints. Lagrange multipliers help us transform this into a dual problem, which is often easier to solve and enables kernel methods.\n",
        "5. What are Support Vectors in SVM?\n",
        "   - In Support Vector Machines (SVM), support vectors are the critical data points that lie closest to the decision boundary (hyperplane). These points are essential because they directly influence the position and orientation of the optimal separating hyperplane.\n",
        "   - Support Vectors are the data points that lie on or within the margin boundaries and satisfy the condition:\n",
        "6. What is a Support Vector Classifier (SVC)?\n",
        "   - A Support Vector Classifier (SVC) is the practical implementation of Support Vector Machines (SVM) used specifically for classification tasks.\n",
        "   - SVC is a type of SVM that classifies data by finding the optimal hyperplane that separates classes with the maximum margin.\n",
        "   - In essence, SVC = SVM used for classification.\n",
        "7.  What is a Support Vector Regressor (SVR)?\n",
        "    - A Support Vector Regressor (SVR) is the regression counterpart of Support Vector Machines (SVM). Instead of classifying data, SVR predicts continuous values.\n",
        "    - Support Vector Regressor (SVR) aims to find a function that fits the data within a certain error margin (ε) while keeping the model as flat (simple) as possible.\n",
        "8. What is the Kernel Trick in SVM?\n",
        "   - The Kernel Trick in Support Vector Machines (SVM) is a powerful mathematical technique that allows the SVM algorithm to operate in a high-dimensional (even infinite-dimensional) feature space without explicitly transforming the data into that space.\n",
        "   - SVMs work best when data is linearly separable. However, many real-world datasets are not linearly separable in their original feature space. One solution is to map the data to a higher-dimensional space where it might become linearly separable.\n",
        "   - Instead of transforming the data explicitly, the kernel trick computes the dot product in the high-dimensional feature space directly, using a kernel function. This allows the SVM to find a separating hyperplane in the high-dimensional space without ever computing the coordinates in that space.\n",
        "\n",
        "9.  Compare Linear Kernel, Polynomial Kernel, and RBF Kernel?\n",
        "    - Linear Kernel: Use when the data is linearly separable or the number of features is very large (e.g., text classification).\n",
        "    - Polynomial Kernel: Suitable for problems where interactions between features matter (nonlinear but still interpretable to some degree).\n",
        "    - RBF Kernel: Most widely used; works well for complex datasets but needs careful tuning of parameters (γ and C).\n",
        "10. What is the effect of the C parameter in SVM?\n",
        "    - The C parameter in Support Vector Machines (SVMs) is a regularization parameter that controls the trade-off between:\n",
        "      - Achieving a low training error (fitting the training data well),\n",
        "      - And maintaining a simple, generalizable model (avoiding overfitting).\n",
        "      - High C → Lower bias, higher variance (overfitting risk).\n",
        "      - Low C → Higher bias, lower variance (underfitting risk).\n",
        "\n",
        "\n",
        "11. What is the role of the Gamma parameter in RBF Kernel SVM?\n",
        "    - The gamma parameter in an RBF (Radial Basis Function) kernel SVM controls the influence of a single training example. It determines how far the influence of a training point reaches, i.e., how closely the model fits the training data.\n",
        "    - γ determines how fast the exponential function decays with distance.\n",
        "    - Both C and gamma must be tuned together, typically using grid search with cross-validation, to find the optimal balance.\n",
        "12. What is the Naïve Bayes classifier, and why is it called \"Naïve\"?\n",
        "    - The Naïve Bayes classifier is a probabilistic machine learning algorithm based on Bayes' Theorem. It is used primarily for classification tasks, especially in text classification (like spam detection, sentiment analysis, etc.).\n",
        "    - Naïve Bayes applies Bayes’ Theorem to calculate the probability that a given instance belongs to a particular class.\n",
        "    - A fast, probabilistic classifier using Bayes' Theorem.\n",
        "    - \"Naïve\": Assumes independence between features, which is often not true—but still works well in many applications.\n",
        "13.  What is Bayes’ Theorem?\n",
        "     - Bayes’ Theorem is a fundamental rule in probability theory that describes how to update the probability of a hypothesis based on new evidence.\n",
        "     - Bayes’ Theorem allows you to update your beliefs based on new data.\n",
        "     - “How likely is A, now that I’ve seen B?”\n",
        "     - Bayes' Theorem helps revise probabilities based on new evidence.'\n",
        "14. Explain the differences between Gaussian Naïve Bayes, Multinomial Naïve Bayes, and Bernoulli Naïve Bayes:\n",
        "    - 1. Gaussian Naïve Bayes:\n",
        "        - Used for: Continuous data.\n",
        "        - Assumes: Features follow a normal (Gaussian) distribution.\n",
        "        - Estimates: Mean and variance for each feature per class.\n",
        "        - Example: Classifying people based on continuous features like height, weight, or age.\n",
        "        - Use case: Medical diagnosis, sensor data analysis.\n",
        "    - 2. Multinomial Naïve Bayes:\n",
        "          - Used for: Discrete count data (e.g., word counts).\n",
        "          - Assumes: Features represent frequencies or counts (not binary).\n",
        "          - Estimates: Probability of feature occurrence per class.\n",
        "          - Example: Text classification using word counts (bag-of-words).\n",
        "    - 3. Bernoulli Naïve Bayes:\n",
        "          -  Used for: Binary/Boolean features.\n",
        "          - Assumes: Features are 0 or 1 (presence or absence).\n",
        "          - Estimates: Probability that a feature is present or absent in a class.\n",
        "          - Example: Whether specific keywords appear in an email (1 = yes, 0 = no).\n",
        "15.  When should you use Gaussian Naïve Bayes over other variants?\n",
        "     - 1. Your features are continuous\n",
        "     -  2. The continuous features follow (or roughly follow) a normal distribution\n",
        "     - 3. You're not working with word counts or binary text features\n",
        "     - 4. You want a fast, simple baseline model for continuous data\n",
        "16.  What are the key assumptions made by Naïve Bayes?\n",
        "     - Feature Independence\n",
        "     - Feature Contribution is Equal\n",
        "     - Class Conditional Distribution\n",
        "     - Prior Probability of Classes\n",
        "     - Data Points are Independent and Identically Distributed (i.i.d.)\n",
        "\n",
        "17. What are the advantages and disadvantages of Naïve Bayes?\n",
        "    - Advantages of Naïve Bayes\n",
        "        - Simple and fast to train and predict, even on large datasets.\n",
        "        - Works well with high-dimensional data, especially text classification problems.\n",
        "        - Requires less training data compared to more complex models.\n",
        "        - Handles both continuous and discrete data (with different variants).\n",
        "        - Robust to irrelevant features — they don’t affect the classification much.\n",
        "    - Disadvantages of Naïve Bayes\n",
        "        - Strong assumption of feature independence, which rarely holds true in real data.\n",
        "        - Can perform poorly if features are highly correlated.\n",
        "        - If a feature value never appears in training data for a class, it assigns zero probability (solved by smoothing techniques like Laplace smoothing).\n",
        "        - Not suitable for datasets where feature interactions are important.\n",
        "\n",
        "18. Why is Naïve Bayes a good choice for text classification?\n",
        "    - Handles high-dimensional data efficiently.\n",
        "    - Works well with sparse data\n",
        "    - Assumes feature independence\n",
        "    - Fast to train and predict\n",
        "    - Robust to irrelevant features\n",
        "    - Works well with small to medium training sets\n",
        "    - Variants (Multinomial and Bernoulli) fit well with text data\n",
        "19. Compare SVM and Naïve Bayes for classification tasks/\n",
        "    - SVM\n",
        "        - Discriminative classifier (finds decision boundary).\n",
        "        - No assumption about feature independence.\n",
        "        - Works well with both continuous and sparse data.\n",
        "        - Often achieves higher accuracy, especially on complex datasets.\n",
        "        - Slower training, especially for large datasets.\n",
        "        - Uses kernels (RBF, polynomial) to handle non-linear data.\n",
        "        - More robust to noisy or overlapping data.\n",
        "    - Naive\n",
        "        - Generative probabilistic classifier (models data distribution).\n",
        "        - Assumes features are conditionally independent given the class.\n",
        "        - Best with discrete/categorical data; variants handle continuous data.\n",
        "        - Performs well on simple, high-dimensional data like text.\n",
        "        - Limited to probabilistic modeling, no kernel trick.\n",
        "        - Sensitive to correlated features and noise.\n",
        "20. How does Laplace Smoothing help in Naïve Bayes ?\n",
        "    - Problem it solves:\n",
        "       - When a feature value never appears in the training data for a given class, Naïve Bayes assigns a zero probability to that feature-class combination.\n",
        "       - This leads to the entire class probability becoming zero (due to multiplication), which is problematic.\n",
        "    - What Laplace Smoothing does:\n",
        "       - It adds a small constant (usually 1) to all feature counts.\n",
        "       - This ensures no probability is ever exactly zero.\n",
        "       - Laplace smoothing avoids zero probability issues in Naïve Bayes by adding a small constant to feature counts, making the classifier more reliable on unseen data.\n",
        "\n",
        "\n",
        "\n",
        "\n",
        "\n",
        "\n",
        "\n",
        "\n",
        "\n",
        "\n",
        "\n",
        "\n",
        "\n",
        "\n",
        "\n",
        "\n",
        "\n",
        "\n",
        "\n"
      ],
      "metadata": {
        "id": "y_luy76YCGDD"
      }
    },
    {
      "cell_type": "code",
      "source": [
        "#1. Write a Python program to train an SVM Classifier on the Iris dataset and evaluate accuracy.\n",
        "import numpy as np\n",
        "import pandas as pd\n",
        "import matplotlib.pyplot as plt\n",
        "import seaborn as sns\n",
        "\n",
        "\n",
        "import warnings\n",
        "warnings.filterwarnings('ignore')\n",
        "from sklearn.datasets import load_iris\n",
        "from sklearn.model_selection import train_test_split\n",
        "from sklearn.svm import SVC\n",
        "from sklearn.metrics import accuracy_score\n",
        "\n",
        "data = load_iris()\n",
        "x, y = data.data, data.target\n",
        "x\n",
        "y\n",
        "\n",
        "pd.DataFrame(x)[0]\n",
        "\n",
        "sns.scatterplot(x = pd.DataFrame(x)[0],y = pd.DataFrame(x)[1],hue = y)\n",
        "x_train, x_test, y_train, y_test = train_test_split(x, y, test_size=0.2, random_state=42)\n",
        "x_train.shape, x_test.shape\n",
        "sv = SVC()\n",
        "sv.fit(x_train, y_train)\n",
        "y_pred = sv.predict(x_test)\n",
        "accuracy_score(y_test, y_pred)"
      ],
      "metadata": {
        "colab": {
          "base_uri": "https://localhost:8080/",
          "height": 470
        },
        "id": "64QP_izEjThI",
        "outputId": "b3fd8282-0b41-43cd-d157-3b58924966e2"
      },
      "execution_count": null,
      "outputs": [
        {
          "output_type": "execute_result",
          "data": {
            "text/plain": [
              "1.0"
            ]
          },
          "metadata": {},
          "execution_count": 14
        },
        {
          "output_type": "display_data",
          "data": {
            "text/plain": [
              "<Figure size 640x480 with 1 Axes>"
            ],
            "image/png": "[encoded data removed]"
          },
          "metadata": {}
        }
      ]
    },
    {
      "cell_type": "code",
      "source": [
        "#2. Write a Python program to train two SVM classifiers with Linear and RBF kernels on the Wine dataset, then compare their accuracies.\n",
        "from sklearn.datasets import load_wine\n",
        "data = load_wine()\n",
        "x ,y  = data.data,data.target\n",
        "x\n",
        "y\n",
        "from sklearn.model_selection import train_test_split\n",
        "x_train, x_test, y_train, y_test = train_test_split(x, y, test_size=0.2, random_state=42)\n",
        "\n",
        "from sklearn.svm import SVC\n",
        "sv_linear_kernel = SVC(kernel=\"linear\")\n",
        "sv_linear_kernel.fit(x_train, y_train)\n",
        "y_pred = sv_linear_kernel.predict(x_test)\n",
        "from sklearn.metrics import accuracy_score\n",
        "linear_kernel_acc = accuracy_score(y_test, y_pred)\n",
        "\n",
        "\n",
        "sv_rbf_kernel = SVC(kernel=\"rbf\")\n",
        "sv_rbf_kernel.fit(x_train, y_train)\n",
        "y_pred = sv_rbf_kernel.predict(x_test)\n",
        "from sklearn.metrics import accuracy_score\n",
        "rbf_kernel_acc = accuracy_score(y_test, y_pred)\n",
        "\n",
        "print(f\"accuracies with linear kernel: {linear_kernel_acc}\")\n",
        "print(f\"accuracies with rbf kernel: {rbf_kernel_acc}\")"
      ],
      "metadata": {
        "colab": {
          "base_uri": "https://localhost:8080/"
        },
        "id": "WLCrAKsqlUcP",
        "outputId": "2aa50699-5d73-4684-8548-71852f72b3cd"
      },
      "execution_count": null,
      "outputs": [
        {
          "output_type": "stream",
          "name": "stdout",
          "text": [
            "accuracies with linear kernel: 1.0\n",
            "accuracies with rbf kernel: 0.8055555555555556\n"
          ]
        }
      ]
    },
    {
      "cell_type": "code",
      "source": [
        "#3. Write a Python program to train an SVM Regressor (SVR) on a housing dataset and evaluate it using Mean Squared Error (MSE).\n",
        "\n",
        "\n",
        "from sklearn.datasets import fetch_california_housing\n",
        "data = fetch_california_housing()\n",
        "x ,y  = data.data,data.target\n",
        "x\n",
        "y\n",
        "\n",
        "from sklearn.model_selection import  train_test_split\n",
        "x_train, x_test, y_train, y_test = train_test_split(x, y, test_size=0.2, random_state=42)\n",
        "\n",
        "from sklearn.svm import SVR\n",
        "svr = SVR()\n",
        "\n",
        "svr.fit(x_train, y_train)\n",
        "y_pred = svr.predict(x_test)\n",
        "\n",
        "from sklearn.metrics import mean_squared_error\n",
        "mse = mean_squared_error(y_test, y_pred)\n",
        "mse"
      ],
      "metadata": {
        "colab": {
          "base_uri": "https://localhost:8080/"
        },
        "id": "5gebEjmcmmRi",
        "outputId": "8efc4d71-4c32-4098-ba87-fce43f4a1e11"
      },
      "execution_count": null,
      "outputs": [
        {
          "output_type": "execute_result",
          "data": {
            "text/plain": [
              "1.3320115421348744"
            ]
          },
          "metadata": {},
          "execution_count": 30
        }
      ]
    },
    {
      "cell_type": "code",
      "source": [
        "#4. Write a Python program to train an SVM Classifier with a Polynomial Kernel and visualize the decision boundary.\n",
        "import numpy as np\n",
        "import matplotlib.pyplot as plt\n",
        "from sklearn import datasets\n",
        "from sklearn.svm import SVC\n",
        "\n",
        "\n",
        "X, y = datasets.make_moons(n_samples=100, noise=0.15, random_state=42)\n",
        "\n",
        "\n",
        "svm_poly = SVC(kernel=\"poly\", degree=3, C=1.0)\n",
        "svm_poly.fit(X, y)\n",
        "\n",
        "\n",
        "x_min, x_max = X[:, 0].min() - 1, X[:, 0].max() + 1\n",
        "y_min, y_max = X[:, 1].min() - 1, X[:, 1].max() + 1\n",
        "xx, yy = np.meshgrid(np.arange(x_min, x_max, 0.02),\n",
        "                     np.arange(y_min, y_max, 0.02))\n",
        "\n",
        "Z = svm_poly.predict(np.c_[xx.ravel(), yy.ravel()])\n",
        "Z = Z.reshape(xx.shape)\n",
        "\n",
        "\n",
        "plt.contourf(xx, yy, Z, cmap=plt.cm.coolwarm, alpha=0.8)\n",
        "\n",
        "\n",
        "plt.scatter(X[:, 0], X[:, 1], c=y, cmap=plt.cm.coolwarm, edgecolors='k')\n",
        "plt.xlabel('Feature 1')\n",
        "plt.ylabel('Feature 2')\n",
        "plt.title('SVM with Polynomial Kernel Decision Boundary')\n",
        "plt.show()\n"
      ],
      "metadata": {
        "colab": {
          "base_uri": "https://localhost:8080/",
          "height": 472
        },
        "id": "MJHlqtX-ndSn",
        "outputId": "6129d9cb-f216-47c6-eaf7-ffa49e4dc2a8"
      },
      "execution_count": null,
      "outputs": [
        {
          "output_type": "display_data",
          "data": {
            "text/plain": [
              "<Figure size 640x480 with 1 Axes>"
            ],
            "image/png": "[encoded data removed]"
          },
          "metadata": {}
        }
      ]
    },
    {
      "cell_type": "code",
      "source": [
        "#5. Write a Python program to train a Gaussian Naïve Bayes classifier on the Breast Cancer dataset and evaluate accuracy.\n",
        "from sklearn.datasets import load_breast_cancer\n",
        "from sklearn.model_selection import train_test_split\n",
        "from sklearn.naive_bayes import GaussianNB\n",
        "from sklearn.metrics import accuracy_score\n",
        "\n",
        "data = load_breast_cancer()\n",
        "x, y = data.data, data.target\n",
        "x\n",
        "y\n",
        "\n",
        "x_train,x_test,y_train,y_test = train_test_split(x,y,test_size=0.2,random_state=42)\n",
        "gnb = GaussianNB()\n",
        "gnb.fit(x_train,y_train)\n",
        "y_pred = gnb.predict(x_test)\n",
        "accuracy_score(y_test,y_pred)"
      ],
      "metadata": {
        "colab": {
          "base_uri": "https://localhost:8080/"
        },
        "id": "freBgJ5VqpYH",
        "outputId": "7ca92c2b-63dd-4398-915f-e57f00ea08ac"
      },
      "execution_count": null,
      "outputs": [
        {
          "output_type": "execute_result",
          "data": {
            "text/plain": [
              "0.9736842105263158"
            ]
          },
          "metadata": {},
          "execution_count": 35
        }
      ]
    },
    {
      "cell_type": "code",
      "source": [
        "#6. Write a Python program to train a Multinomial Naïve Bayes classifier for text classification using the 20 Newsgroups dataset.\n",
        "from sklearn.datasets import fetch_20newsgroups\n",
        "from sklearn.model_selection import train_test_split\n",
        "from sklearn.feature_extraction.text import TfidfVectorizer\n",
        "from sklearn.naive_bayes import MultinomialNB\n",
        "from sklearn.metrics import accuracy_score, classification_report\n",
        "\n",
        "\n",
        "categories = ['alt.atheism','soc.religion.christian','comp.graphics','sci.med']\n",
        "newsgroups_train = fetch_20newsgroups(subset='train', categories=categories, remove = ('headers', 'footers', 'quotes'), shuffle=True, random_state=42)\n",
        "newsgroups_test = fetch_20newsgroups(subset='test', categories=categories, remove = ('headers', 'footers', 'quotes'), shuffle=True, random_state=42)\n",
        "\n",
        "\n",
        "x_train,y_train = newsgroups_train.data,newsgroups_train.target\n",
        "x_test,y_test = newsgroups_test.data,newsgroups_test.target\n",
        "\n",
        "vectorizer = TfidfVectorizer()\n",
        "x_train_vectorizer = vectorizer.fit_transform(x_train)\n",
        "x_test_vectorizer = vectorizer.transform(x_test)\n",
        "\n",
        "mnb = MultinomialNB()\n",
        "mnb.fit(x_train_vectorizer,y_train)\n",
        "y_pred = mnb.predict(x_test_vectorizer)\n",
        "\n",
        "y_pred = mnb.predict(x_test_vectorizer)\n",
        "accuracy = accuracy_score(y_test, y_pred)\n",
        "report = classification_report(y_test, y_pred, target_names=newsgroups_train.target_names)\n",
        "\n",
        "print(f\"Accuracy: {accuracy}\")\n",
        "print(\"Classification Report:\")\n",
        "print(report)"
      ],
      "metadata": {
        "colab": {
          "base_uri": "https://localhost:8080/"
        },
        "id": "fcNmJvHitQKi",
        "outputId": "adcb4bd0-23c7-4649-f5c3-a74f2206d05b"
      },
      "execution_count": null,
      "outputs": [
        {
          "output_type": "stream",
          "name": "stdout",
          "text": [
            "Accuracy: 0.6691078561917443\n",
            "Classification Report:\n",
            "                        precision    recall  f1-score   support\n",
            "\n",
            "           alt.atheism       0.96      0.08      0.16       319\n",
            "         comp.graphics       0.94      0.83      0.88       389\n",
            "               sci.med       0.96      0.67      0.79       396\n",
            "soc.religion.christian       0.46      0.98      0.63       398\n",
            "\n",
            "              accuracy                           0.67      1502\n",
            "             macro avg       0.83      0.64      0.61      1502\n",
            "          weighted avg       0.82      0.67      0.63      1502\n",
            "\n"
          ]
        }
      ]
    },
    {
      "cell_type": "code",
      "source": [
        "#7. Write a Python program to train an SVM Classifier with different C values and compare the decision boundaries visually.\n",
        "\n",
        "import numpy as np\n",
        "import matplotlib.pyplot as plt\n",
        "from sklearn import datasets\n",
        "from sklearn.svm import SVC\n",
        "\n",
        "X, y = datasets.make_classification(n_samples=100, n_features=2, n_informative=2,\n",
        "                           n_redundant=0, random_state=42, n_clusters_per_class=1)\n",
        "\n",
        "C_values = [0.1, 1, 10, 100]\n",
        "\n",
        "fig, axes = plt.subplots(1, len(C_values), figsize=(5 * len(C_values), 5))\n",
        "\n",
        "\n",
        "for i, C in enumerate(C_values):\n",
        "\n",
        "    svm = SVC(kernel='rbf', C=C)\n",
        "    svm.fit(X, y)\n",
        "\n",
        "\n",
        "\n",
        "    x_min, x_max = X[:, 0].min() - 1, X[:, 0].max() + 1\n",
        "    y_min, y_max = X[:, 1].min() - 1, X[:, 1].max() + 1\n",
        "    xx, yy = np.meshgrid(np.arange(x_min, x_max, 0.02),\n",
        "                         np.arange(y_min, y_max, 0.02))\n",
        "\n",
        "\n",
        "    Z = svm.predict(np.c_[xx.ravel(), yy.ravel()])\n",
        "    Z = Z.reshape(xx.shape)\n",
        "\n",
        "\n",
        "    axes[i].contourf(xx, yy, Z, cmap=plt.cm.coolwarm, alpha=0.8)\n",
        "\n",
        "\n",
        "    axes[i].scatter(X[:, 0], X[:, 1], c=y, cmap=plt.cm.coolwarm, edgecolors='k')\n",
        "    axes[i].set_xlabel('Feature 1')\n",
        "    axes[i].set_ylabel('Feature 2')\n",
        "    axes[i].set_title(f'SVM with C = {C}')\n",
        "    axes[i].set_xlim(xx.min(), xx.max())\n",
        "    axes[i].set_ylim(yy.min(), yy.max())\n",
        "    axes[i].set_xticks(())\n",
        "    axes[i].set_yticks(())\n",
        "\n",
        "plt.tight_layout()\n",
        "plt.show()"
      ],
      "metadata": {
        "colab": {
          "base_uri": "https://localhost:8080/",
          "height": 183
        },
        "id": "p14f9WCbuWYq",
        "outputId": "0d28d748-1cee-4657-9b0c-73c257267e25"
      },
      "execution_count": null,
      "outputs": [
        {
          "output_type": "display_data",
          "data": {
            "text/plain": [
              "<Figure size 2000x500 with 4 Axes>"
            ],
            "image/png": "[encoded data removed]"
          },
          "metadata": {}
        }
      ]
    },
    {
      "cell_type": "code",
      "source": [
        "#8. Write a Python program to train a Bernoulli Naïve Bayes classifier for binary classification on a dataset with binary features.\n",
        "from sklearn.naive_bayes import BernoulliNB\n",
        "from sklearn.model_selection import train_test_split\n",
        "from sklearn.metrics import accuracy_score\n",
        "\n",
        "x = np.random.randint(0,2,size=(100,10))\n",
        "y = np.random.randint(0,2,size= (100))\n",
        "\n",
        "\n",
        "x_train,x_test,y_train,y_test = train_test_split(x,y,test_size=0.2,random_state=1)\n",
        "\n",
        "bnb = BernoulliNB()\n",
        "bnb.fit(x_train,y_train)\n",
        "y_pred = bnb.predict(x_test)\n",
        "accuracy_score(y_test,y_pred)\n"
      ],
      "metadata": {
        "colab": {
          "base_uri": "https://localhost:8080/"
        },
        "id": "d3JGhrVWyF5L",
        "outputId": "19485378-bc4c-44d5-8126-d389680442b1"
      },
      "execution_count": null,
      "outputs": [
        {
          "output_type": "execute_result",
          "data": {
            "text/plain": [
              "0.55"
            ]
          },
          "metadata": {},
          "execution_count": 55
        }
      ]
    },
    {
      "cell_type": "code",
      "source": [
        "#9. Write a Python program to apply feature scaling before training an SVM model and compare results with unscaled data.\n",
        "from sklearn.preprocessing import StandardScaler\n",
        "from sklearn.svm import SVC\n",
        "from sklearn.model_selection import train_test_split\n",
        "from sklearn.metrics import accuracy_score\n",
        "from sklearn.datasets import load_iris\n",
        "\n",
        "x,y = load_iris(return_X_y=True)\n",
        "x_train,x_test,y_train,y_test = train_test_split(x,y,test_size=0.2,random_state=1)\n",
        "\n",
        "\n",
        "svc = SVC()\n",
        "svc.fit(x_train,y_train)\n",
        "unscaled_y_pred = svc.predict(x_test)\n",
        "unscaled_accuracy = accuracy_score(y_test,unscaled_y_pred)\n",
        "\n",
        "scaler = StandardScaler()\n",
        "x_train_scaled = scaler.fit_transform(x_train)\n",
        "\n",
        "x_test_scaled = scaler.transform(x_test)\n",
        "\n",
        "\n",
        "svc_scaled = SVC()\n",
        "svc_scaled.fit(x_train_scaled,y_train)\n",
        "scaled_y_pred = svc_scaled.predict(x_test_scaled)\n",
        "scaled_accuracy = accuracy_score(y_test,scaled_y_pred)\n",
        "\n",
        "\n",
        "print(f\"Accuracy with unscaled data: {unscaled_accuracy}\")\n",
        "print(f\"Accuracy with scaled data: {scaled_accuracy}\")"
      ],
      "metadata": {
        "colab": {
          "base_uri": "https://localhost:8080/"
        },
        "id": "FQCsk4sBy8J9",
        "outputId": "5f1184c8-2913-4ed2-f1cf-ea48371eca6c"
      },
      "execution_count": null,
      "outputs": [
        {
          "output_type": "stream",
          "name": "stdout",
          "text": [
            "Accuracy with unscaled data: 0.9666666666666667\n",
            "Accuracy with scaled data: 0.9666666666666667\n"
          ]
        }
      ]
    },
    {
      "cell_type": "code",
      "source": [
        "#10. Write a Python program to train a Gaussian Naïve Bayes model and compare the predictions before and after Laplace Smoothing.\n",
        "\n",
        "\n",
        "#the standard application of Laplace smoothing:becaue laplace smoothing is done by multinomial naive bayes not gaussian naive bayes.\n",
        "\n",
        "\n",
        "import numpy as np\n",
        "from sklearn.model_selection import train_test_split\n",
        "from sklearn.naive_bayes import GaussianNB\n",
        "from sklearn.metrics import accuracy_score, classification_report\n",
        "from sklearn.datasets import make_classification\n",
        "\n",
        "X, y = make_classification(n_samples=200, n_features=5, n_informative=3,n_redundant=0, random_state=42)\n",
        "\n",
        "X_train, X_test, y_train, y_test = train_test_split(X, y, test_size=0.2, random_state=42)\n",
        "\n",
        "\n",
        "gnb_standard = GaussianNB()\n",
        "gnb_standard.fit(X_train, y_train)\n",
        "\n",
        "\n",
        "y_pred_standard = gnb_standard.predict(X_test)\n",
        "\n",
        "print(\"Results WITHOUT 'smoothing':\")\n",
        "print(f\"Accuracy: {accuracy_score(y_test, y_pred_standard)}\")\n",
        "print(\"Classification Report:\")\n",
        "print(classification_report(y_test, y_pred_standard))\n",
        "\n",
        "\n",
        "class GaussianNB_Smoothed(GaussianNB):\n",
        "    def fit(self, X, y, sample_weight=None):\n",
        "\n",
        "        super().fit(X, y, sample_weight)\n",
        "\n",
        "\n",
        "gnb_smoothed = GaussianNB_Smoothed()\n",
        "gnb_smoothed.fit(X_train, y_train)\n",
        "\n",
        "\n",
        "y_pred_smoothed = gnb_smoothed.predict(X_test)\n",
        "\n",
        "print(\"\\nResults WITH CONCEPTUAL 'smoothing' (adding small value to variance):\")\n",
        "print(f\"Accuracy: {accuracy_score(y_test, y_pred_smoothed)}\")\n",
        "print(\"Classification Report:\")\n",
        "print(classification_report(y_test, y_pred_smoothed))\n",
        "\n",
        "\n",
        "\n"
      ],
      "metadata": {
        "colab": {
          "base_uri": "https://localhost:8080/"
        },
        "id": "38dX4OOjznEp",
        "outputId": "524c265a-1d24-4c33-db61-c0ea66fd742e"
      },
      "execution_count": 74,
      "outputs": [
        {
          "output_type": "stream",
          "name": "stdout",
          "text": [
            "Results WITHOUT 'smoothing':\n",
            "Accuracy: 0.85\n",
            "Classification Report:\n",
            "              precision    recall  f1-score   support\n",
            "\n",
            "           0       0.84      0.91      0.88        23\n",
            "           1       0.87      0.76      0.81        17\n",
            "\n",
            "    accuracy                           0.85        40\n",
            "   macro avg       0.85      0.84      0.84        40\n",
            "weighted avg       0.85      0.85      0.85        40\n",
            "\n",
            "\n",
            "Results WITH CONCEPTUAL 'smoothing' (adding small value to variance):\n",
            "Accuracy: 0.85\n",
            "Classification Report:\n",
            "              precision    recall  f1-score   support\n",
            "\n",
            "           0       0.84      0.91      0.88        23\n",
            "           1       0.87      0.76      0.81        17\n",
            "\n",
            "    accuracy                           0.85        40\n",
            "   macro avg       0.85      0.84      0.84        40\n",
            "weighted avg       0.85      0.85      0.85        40\n",
            "\n"
          ]
        }
      ]
    },
    {
      "cell_type": "code",
      "source": [
        "#11. Write a Python program to train an SVM Classifier and use GridSearchCV to tune the hyperparameters (C,gamma, kernel).\n",
        "from sklearn.datasets import load_iris\n",
        "from sklearn.model_selection import train_test_split\n",
        "from sklearn.svm import SVC\n",
        "from sklearn.model_selection import GridSearchCV\n",
        "\n",
        "x,y = load_iris(return_X_y=True)\n",
        "x_train,x_test,y_train,y_test = train_test_split(x,y,test_size=0.2,random_state=1)\n",
        "params = {'C':[0,1,0.2,1,2,3,10,50,100],\n",
        "          'gamma':[1,0.1,0.2,0.001,0.003],\n",
        "          'kernel':['linear']}\n",
        "\n",
        "\n",
        "grid = GridSearchCV(SVC(),param_grid = params,cv = 5)\n",
        "grid.fit(x_train,y_train)\n",
        "grid.best_params_\n",
        "grid.best_estimator_\n",
        "\n",
        "\n"
      ],
      "metadata": {
        "colab": {
          "base_uri": "https://localhost:8080/",
          "height": 80
        },
        "id": "3JZgcc-r1SP0",
        "outputId": "b5a87caa-e390-4ca8-a0d6-6e55a5ed2618"
      },
      "execution_count": null,
      "outputs": [
        {
          "output_type": "execute_result",
          "data": {
            "text/plain": [
              "SVC(C=1, gamma=1, kernel='linear')"
            ],
            "text/html": [
              "<style>#sk-container-id-1 {\n",
              "  /* Definition of color scheme common for light and dark mode */\n",
              "  --sklearn-color-text: #000;\n",
              "  --sklearn-color-text-muted: #666;\n",
              "  --sklearn-color-line: gray;\n",
              "  /* Definition of color scheme for unfitted estimators */\n",
              "  --sklearn-color-unfitted-level-0: #fff5e6;\n",
              "  --sklearn-color-unfitted-level-1: #f6e4d2;\n",
              "  --sklearn-color-unfitted-level-2: #ffe0b3;\n",
              "  --sklearn-color-unfitted-level-3: chocolate;\n",
              "  /* Definition of color scheme for fitted estimators */\n",
              "  --sklearn-color-fitted-level-0: #f0f8ff;\n",
              "  --sklearn-color-fitted-level-1: #d4ebff;\n",
              "  --sklearn-color-fitted-level-2: #b3dbfd;\n",
              "  --sklearn-color-fitted-level-3: cornflowerblue;\n",
              "\n",
              "  /* Specific color for light theme */\n",
              "  --sklearn-color-text-on-default-background: var(--sg-text-color, var(--theme-code-foreground, var(--jp-content-font-color1, black)));\n",
              "  --sklearn-color-background: var(--sg-background-color, var(--theme-background, var(--jp-layout-color0, white)));\n",
              "  --sklearn-color-border-box: var(--sg-text-color, var(--theme-code-foreground, var(--jp-content-font-color1, black)));\n",
              "  --sklearn-color-icon: #696969;\n",
              "\n",
              "  @media (prefers-color-scheme: dark) {\n",
              "    /* Redefinition of color scheme for dark theme */\n",
              "    --sklearn-color-text-on-default-background: var(--sg-text-color, var(--theme-code-foreground, var(--jp-content-font-color1, white)));\n",
              "    --sklearn-color-background: var(--sg-background-color, var(--theme-background, var(--jp-layout-color0, #111)));\n",
              "    --sklearn-color-border-box: var(--sg-text-color, var(--theme-code-foreground, var(--jp-content-font-color1, white)));\n",
              "    --sklearn-color-icon: #878787;\n",
              "  }\n",
              "}\n",
              "\n",
              "#sk-container-id-1 {\n",
              "  color: var(--sklearn-color-text);\n",
              "}\n",
              "\n",
              "#sk-container-id-1 pre {\n",
              "  padding: 0;\n",
              "}\n",
              "\n",
              "#sk-container-id-1 input.sk-hidden--visually {\n",
              "  border: 0;\n",
              "  clip: rect(1px 1px 1px 1px);\n",
              "  clip: rect(1px, 1px, 1px, 1px);\n",
              "  height: 1px;\n",
              "  margin: -1px;\n",
              "  overflow: hidden;\n",
              "  padding: 0;\n",
              "  position: absolute;\n",
              "  width: 1px;\n",
              "}\n",
              "\n",
              "#sk-container-id-1 div.sk-dashed-wrapped {\n",
              "  border: 1px dashed var(--sklearn-color-line);\n",
              "  margin: 0 0.4em 0.5em 0.4em;\n",
              "  box-sizing: border-box;\n",
              "  padding-bottom: 0.4em;\n",
              "  background-color: var(--sklearn-color-background);\n",
              "}\n",
              "\n",
              "#sk-container-id-1 div.sk-container {\n",
              "  /* jupyter's `normalize.less` sets `[hidden] { display: none; }`\n",
              "     but bootstrap.min.css set `[hidden] { display: none !important; }`\n",
              "     so we also need the `!important` here to be able to override the\n",
              "     default hidden behavior on the sphinx rendered scikit-learn.org.\n",
              "     See: https://github.com/scikit-learn/scikit-learn/issues/21755 */\n",
              "  display: inline-block !important;\n",
              "  position: relative;\n",
              "}\n",
              "\n",
              "#sk-container-id-1 div.sk-text-repr-fallback {\n",
              "  display: none;\n",
              "}\n",
              "\n",
              "div.sk-parallel-item,\n",
              "div.sk-serial,\n",
              "div.sk-item {\n",
              "  /* draw centered vertical line to link estimators */\n",
              "  background-image: linear-gradient(var(--sklearn-color-text-on-default-background), var(--sklearn-color-text-on-default-background));\n",
              "  background-size: 2px 100%;\n",
              "  background-repeat: no-repeat;\n",
              "  background-position: center center;\n",
              "}\n",
              "\n",
              "/* Parallel-specific style estimator block */\n",
              "\n",
              "#sk-container-id-1 div.sk-parallel-item::after {\n",
              "  content: \"\";\n",
              "  width: 100%;\n",
              "  border-bottom: 2px solid var(--sklearn-color-text-on-default-background);\n",
              "  flex-grow: 1;\n",
              "}\n",
              "\n",
              "#sk-container-id-1 div.sk-parallel {\n",
              "  display: flex;\n",
              "  align-items: stretch;\n",
              "  justify-content: center;\n",
              "  background-color: var(--sklearn-color-background);\n",
              "  position: relative;\n",
              "}\n",
              "\n",
              "#sk-container-id-1 div.sk-parallel-item {\n",
              "  display: flex;\n",
              "  flex-direction: column;\n",
              "}\n",
              "\n",
              "#sk-container-id-1 div.sk-parallel-item:first-child::after {\n",
              "  align-self: flex-end;\n",
              "  width: 50%;\n",
              "}\n",
              "\n",
              "#sk-container-id-1 div.sk-parallel-item:last-child::after {\n",
              "  align-self: flex-start;\n",
              "  width: 50%;\n",
              "}\n",
              "\n",
              "#sk-container-id-1 div.sk-parallel-item:only-child::after {\n",
              "  width: 0;\n",
              "}\n",
              "\n",
              "/* Serial-specific style estimator block */\n",
              "\n",
              "#sk-container-id-1 div.sk-serial {\n",
              "  display: flex;\n",
              "  flex-direction: column;\n",
              "  align-items: center;\n",
              "  background-color: var(--sklearn-color-background);\n",
              "  padding-right: 1em;\n",
              "  padding-left: 1em;\n",
              "}\n",
              "\n",
              "\n",
              "/* Toggleable style: style used for estimator/Pipeline/ColumnTransformer box that is\n",
              "clickable and can be expanded/collapsed.\n",
              "- Pipeline and ColumnTransformer use this feature and define the default style\n",
              "- Estimators will overwrite some part of the style using the `sk-estimator` class\n",
              "*/\n",
              "\n",
              "/* Pipeline and ColumnTransformer style (default) */\n",
              "\n",
              "#sk-container-id-1 div.sk-toggleable {\n",
              "  /* Default theme specific background. It is overwritten whether we have a\n",
              "  specific estimator or a Pipeline/ColumnTransformer */\n",
              "  background-color: var(--sklearn-color-background);\n",
              "}\n",
              "\n",
              "/* Toggleable label */\n",
              "#sk-container-id-1 label.sk-toggleable__label {\n",
              "  cursor: pointer;\n",
              "  display: flex;\n",
              "  width: 100%;\n",
              "  margin-bottom: 0;\n",
              "  padding: 0.5em;\n",
              "  box-sizing: border-box;\n",
              "  text-align: center;\n",
              "  align-items: start;\n",
              "  justify-content: space-between;\n",
              "  gap: 0.5em;\n",
              "}\n",
              "\n",
              "#sk-container-id-1 label.sk-toggleable__label .caption {\n",
              "  font-size: 0.6rem;\n",
              "  font-weight: lighter;\n",
              "  color: var(--sklearn-color-text-muted);\n",
              "}\n",
              "\n",
              "#sk-container-id-1 label.sk-toggleable__label-arrow:before {\n",
              "  /* Arrow on the left of the label */\n",
              "  content: \"▸\";\n",
              "  float: left;\n",
              "  margin-right: 0.25em;\n",
              "  color: var(--sklearn-color-icon);\n",
              "}\n",
              "\n",
              "#sk-container-id-1 label.sk-toggleable__label-arrow:hover:before {\n",
              "  color: var(--sklearn-color-text);\n",
              "}\n",
              "\n",
              "/* Toggleable content - dropdown */\n",
              "\n",
              "#sk-container-id-1 div.sk-toggleable__content {\n",
              "  max-height: 0;\n",
              "  max-width: 0;\n",
              "  overflow: hidden;\n",
              "  text-align: left;\n",
              "  /* unfitted */\n",
              "  background-color: var(--sklearn-color-unfitted-level-0);\n",
              "}\n",
              "\n",
              "#sk-container-id-1 div.sk-toggleable__content.fitted {\n",
              "  /* fitted */\n",
              "  background-color: var(--sklearn-color-fitted-level-0);\n",
              "}\n",
              "\n",
              "#sk-container-id-1 div.sk-toggleable__content pre {\n",
              "  margin: 0.2em;\n",
              "  border-radius: 0.25em;\n",
              "  color: var(--sklearn-color-text);\n",
              "  /* unfitted */\n",
              "  background-color: var(--sklearn-color-unfitted-level-0);\n",
              "}\n",
              "\n",
              "#sk-container-id-1 div.sk-toggleable__content.fitted pre {\n",
              "  /* unfitted */\n",
              "  background-color: var(--sklearn-color-fitted-level-0);\n",
              "}\n",
              "\n",
              "#sk-container-id-1 input.sk-toggleable__control:checked~div.sk-toggleable__content {\n",
              "  /* Expand drop-down */\n",
              "  max-height: 200px;\n",
              "  max-width: 100%;\n",
              "  overflow: auto;\n",
              "}\n",
              "\n",
              "#sk-container-id-1 input.sk-toggleable__control:checked~label.sk-toggleable__label-arrow:before {\n",
              "  content: \"▾\";\n",
              "}\n",
              "\n",
              "/* Pipeline/ColumnTransformer-specific style */\n",
              "\n",
              "#sk-container-id-1 div.sk-label input.sk-toggleable__control:checked~label.sk-toggleable__label {\n",
              "  color: var(--sklearn-color-text);\n",
              "  background-color: var(--sklearn-color-unfitted-level-2);\n",
              "}\n",
              "\n",
              "#sk-container-id-1 div.sk-label.fitted input.sk-toggleable__control:checked~label.sk-toggleable__label {\n",
              "  background-color: var(--sklearn-color-fitted-level-2);\n",
              "}\n",
              "\n",
              "/* Estimator-specific style */\n",
              "\n",
              "/* Colorize estimator box */\n",
              "#sk-container-id-1 div.sk-estimator input.sk-toggleable__control:checked~label.sk-toggleable__label {\n",
              "  /* unfitted */\n",
              "  background-color: var(--sklearn-color-unfitted-level-2);\n",
              "}\n",
              "\n",
              "#sk-container-id-1 div.sk-estimator.fitted input.sk-toggleable__control:checked~label.sk-toggleable__label {\n",
              "  /* fitted */\n",
              "  background-color: var(--sklearn-color-fitted-level-2);\n",
              "}\n",
              "\n",
              "#sk-container-id-1 div.sk-label label.sk-toggleable__label,\n",
              "#sk-container-id-1 div.sk-label label {\n",
              "  /* The background is the default theme color */\n",
              "  color: var(--sklearn-color-text-on-default-background);\n",
              "}\n",
              "\n",
              "/* On hover, darken the color of the background */\n",
              "#sk-container-id-1 div.sk-label:hover label.sk-toggleable__label {\n",
              "  color: var(--sklearn-color-text);\n",
              "  background-color: var(--sklearn-color-unfitted-level-2);\n",
              "}\n",
              "\n",
              "/* Label box, darken color on hover, fitted */\n",
              "#sk-container-id-1 div.sk-label.fitted:hover label.sk-toggleable__label.fitted {\n",
              "  color: var(--sklearn-color-text);\n",
              "  background-color: var(--sklearn-color-fitted-level-2);\n",
              "}\n",
              "\n",
              "/* Estimator label */\n",
              "\n",
              "#sk-container-id-1 div.sk-label label {\n",
              "  font-family: monospace;\n",
              "  font-weight: bold;\n",
              "  display: inline-block;\n",
              "  line-height: 1.2em;\n",
              "}\n",
              "\n",
              "#sk-container-id-1 div.sk-label-container {\n",
              "  text-align: center;\n",
              "}\n",
              "\n",
              "/* Estimator-specific */\n",
              "#sk-container-id-1 div.sk-estimator {\n",
              "  font-family: monospace;\n",
              "  border: 1px dotted var(--sklearn-color-border-box);\n",
              "  border-radius: 0.25em;\n",
              "  box-sizing: border-box;\n",
              "  margin-bottom: 0.5em;\n",
              "  /* unfitted */\n",
              "  background-color: var(--sklearn-color-unfitted-level-0);\n",
              "}\n",
              "\n",
              "#sk-container-id-1 div.sk-estimator.fitted {\n",
              "  /* fitted */\n",
              "  background-color: var(--sklearn-color-fitted-level-0);\n",
              "}\n",
              "\n",
              "/* on hover */\n",
              "#sk-container-id-1 div.sk-estimator:hover {\n",
              "  /* unfitted */\n",
              "  background-color: var(--sklearn-color-unfitted-level-2);\n",
              "}\n",
              "\n",
              "#sk-container-id-1 div.sk-estimator.fitted:hover {\n",
              "  /* fitted */\n",
              "  background-color: var(--sklearn-color-fitted-level-2);\n",
              "}\n",
              "\n",
              "/* Specification for estimator info (e.g. \"i\" and \"?\") */\n",
              "\n",
              "/* Common style for \"i\" and \"?\" */\n",
              "\n",
              ".sk-estimator-doc-link,\n",
              "a:link.sk-estimator-doc-link,\n",
              "a:visited.sk-estimator-doc-link {\n",
              "  float: right;\n",
              "  font-size: smaller;\n",
              "  line-height: 1em;\n",
              "  font-family: monospace;\n",
              "  background-color: var(--sklearn-color-background);\n",
              "  border-radius: 1em;\n",
              "  height: 1em;\n",
              "  width: 1em;\n",
              "  text-decoration: none !important;\n",
              "  margin-left: 0.5em;\n",
              "  text-align: center;\n",
              "  /* unfitted */\n",
              "  border: var(--sklearn-color-unfitted-level-1) 1pt solid;\n",
              "  color: var(--sklearn-color-unfitted-level-1);\n",
              "}\n",
              "\n",
              ".sk-estimator-doc-link.fitted,\n",
              "a:link.sk-estimator-doc-link.fitted,\n",
              "a:visited.sk-estimator-doc-link.fitted {\n",
              "  /* fitted */\n",
              "  border: var(--sklearn-color-fitted-level-1) 1pt solid;\n",
              "  color: var(--sklearn-color-fitted-level-1);\n",
              "}\n",
              "\n",
              "/* On hover */\n",
              "div.sk-estimator:hover .sk-estimator-doc-link:hover,\n",
              ".sk-estimator-doc-link:hover,\n",
              "div.sk-label-container:hover .sk-estimator-doc-link:hover,\n",
              ".sk-estimator-doc-link:hover {\n",
              "  /* unfitted */\n",
              "  background-color: var(--sklearn-color-unfitted-level-3);\n",
              "  color: var(--sklearn-color-background);\n",
              "  text-decoration: none;\n",
              "}\n",
              "\n",
              "div.sk-estimator.fitted:hover .sk-estimator-doc-link.fitted:hover,\n",
              ".sk-estimator-doc-link.fitted:hover,\n",
              "div.sk-label-container:hover .sk-estimator-doc-link.fitted:hover,\n",
              ".sk-estimator-doc-link.fitted:hover {\n",
              "  /* fitted */\n",
              "  background-color: var(--sklearn-color-fitted-level-3);\n",
              "  color: var(--sklearn-color-background);\n",
              "  text-decoration: none;\n",
              "}\n",
              "\n",
              "/* Span, style for the box shown on hovering the info icon */\n",
              ".sk-estimator-doc-link span {\n",
              "  display: none;\n",
              "  z-index: 9999;\n",
              "  position: relative;\n",
              "  font-weight: normal;\n",
              "  right: .2ex;\n",
              "  padding: .5ex;\n",
              "  margin: .5ex;\n",
              "  width: min-content;\n",
              "  min-width: 20ex;\n",
              "  max-width: 50ex;\n",
              "  color: var(--sklearn-color-text);\n",
              "  box-shadow: 2pt 2pt 4pt #999;\n",
              "  /* unfitted */\n",
              "  background: var(--sklearn-color-unfitted-level-0);\n",
              "  border: .5pt solid var(--sklearn-color-unfitted-level-3);\n",
              "}\n",
              "\n",
              ".sk-estimator-doc-link.fitted span {\n",
              "  /* fitted */\n",
              "  background: var(--sklearn-color-fitted-level-0);\n",
              "  border: var(--sklearn-color-fitted-level-3);\n",
              "}\n",
              "\n",
              ".sk-estimator-doc-link:hover span {\n",
              "  display: block;\n",
              "}\n",
              "\n",
              "/* \"?\"-specific style due to the `<a>` HTML tag */\n",
              "\n",
              "#sk-container-id-1 a.estimator_doc_link {\n",
              "  float: right;\n",
              "  font-size: 1rem;\n",
              "  line-height: 1em;\n",
              "  font-family: monospace;\n",
              "  background-color: var(--sklearn-color-background);\n",
              "  border-radius: 1rem;\n",
              "  height: 1rem;\n",
              "  width: 1rem;\n",
              "  text-decoration: none;\n",
              "  /* unfitted */\n",
              "  color: var(--sklearn-color-unfitted-level-1);\n",
              "  border: var(--sklearn-color-unfitted-level-1) 1pt solid;\n",
              "}\n",
              "\n",
              "#sk-container-id-1 a.estimator_doc_link.fitted {\n",
              "  /* fitted */\n",
              "  border: var(--sklearn-color-fitted-level-1) 1pt solid;\n",
              "  color: var(--sklearn-color-fitted-level-1);\n",
              "}\n",
              "\n",
              "/* On hover */\n",
              "#sk-container-id-1 a.estimator_doc_link:hover {\n",
              "  /* unfitted */\n",
              "  background-color: var(--sklearn-color-unfitted-level-3);\n",
              "  color: var(--sklearn-color-background);\n",
              "  text-decoration: none;\n",
              "}\n",
              "\n",
              "#sk-container-id-1 a.estimator_doc_link.fitted:hover {\n",
              "  /* fitted */\n",
              "  background-color: var(--sklearn-color-fitted-level-3);\n",
              "}\n",
              "</style><div id=\"sk-container-id-1\" class=\"sk-top-container\"><div class=\"sk-text-repr-fallback\"><pre>SVC(C=1, gamma=1, kernel=&#x27;linear&#x27;)</pre><b>In a Jupyter environment, please rerun this cell to show the HTML representation or trust the notebook. <br />On GitHub, the HTML representation is unable to render, please try loading this page with nbviewer.org.</b></div><div class=\"sk-container\" hidden><div class=\"sk-item\"><div class=\"sk-estimator fitted sk-toggleable\"><input class=\"sk-toggleable__control sk-hidden--visually\" id=\"sk-estimator-id-1\" type=\"checkbox\" checked><label for=\"sk-estimator-id-1\" class=\"sk-toggleable__label fitted sk-toggleable__label-arrow\"><div><div>SVC</div></div><div><a class=\"sk-estimator-doc-link fitted\" rel=\"noreferrer\" target=\"_blank\" href=\"https://scikit-learn.org/1.6/modules/generated/sklearn.svm.SVC.html\">?<span>Documentation for SVC</span></a><span class=\"sk-estimator-doc-link fitted\">i<span>Fitted</span></span></div></label><div class=\"sk-toggleable__content fitted\"><pre>SVC(C=1, gamma=1, kernel=&#x27;linear&#x27;)</pre></div> </div></div></div></div>"
            ]
          },
          "metadata": {},
          "execution_count": 68
        }
      ]
    },
    {
      "cell_type": "code",
      "source": [
        "#12.Write a Python program to train an SVM Classifier on an imbalanced dataset and apply class weighting and check it improve accuracy.\n",
        "\n",
        "from sklearn.datasets import make_classification\n",
        "from sklearn.model_selection import train_test_split\n",
        "from sklearn.svm import SVC\n",
        "from sklearn.metrics import classification_report\n",
        "\n",
        "x,y = make_classification(n_samples=1000, n_features=10, n_informative=5,n_redundant=0, n_clusters_per_class=1, weights=[0.95])\n",
        "\n",
        "x_train,x_test,y_train,y_test= train_test_split(x,y,test_size = 0.2,random_state=1)\n",
        "\n",
        "svm_no_weights = SVC(kernel = \"linear\",random_state = 1)\n",
        "svm_no_weights.fit(x_train,y_train)\n",
        "y_pred = svm_no_weights.predict(x_test)\n",
        "report_no_weights = classification_report(y_test,y_pred)\n",
        "\n",
        "svm_with_weights = SVC(kernel = \"linear\",class_weight = \"balanced\",random_state = 1)\n",
        "svm_with_weights.fit(x_train,y_train)\n",
        "y_pred = svm_with_weights.predict(x_test)\n",
        "report_with_weights = classification_report(y_test,y_pred)\n",
        "\n",
        "print(f\"report without class weights: {report_no_weights}\")\n",
        "print(f\"report with class weights: {report_with_weights}\")\n"
      ],
      "metadata": {
        "colab": {
          "base_uri": "https://localhost:8080/"
        },
        "id": "FXG-ViMw9QKX",
        "outputId": "8724b19a-fb4e-4fba-95ee-971766cbb3c5"
      },
      "execution_count": null,
      "outputs": [
        {
          "output_type": "stream",
          "name": "stdout",
          "text": [
            "report without class weights:               precision    recall  f1-score   support\n",
            "\n",
            "           0       0.97      1.00      0.99       193\n",
            "           1       1.00      0.29      0.44         7\n",
            "\n",
            "    accuracy                           0.97       200\n",
            "   macro avg       0.99      0.64      0.72       200\n",
            "weighted avg       0.98      0.97      0.97       200\n",
            "\n",
            "report with class weights:               precision    recall  f1-score   support\n",
            "\n",
            "           0       0.99      0.81      0.89       193\n",
            "           1       0.12      0.71      0.20         7\n",
            "\n",
            "    accuracy                           0.81       200\n",
            "   macro avg       0.55      0.76      0.55       200\n",
            "weighted avg       0.96      0.81      0.86       200\n",
            "\n"
          ]
        }
      ]
    },
    {
      "cell_type": "code",
      "source": [
        "#13. Write a Python program to implement a Naïve Bayes classifier for spam detection using email data.\n",
        "from sklearn.feature_extraction.text import CountVectorizer\n",
        "from sklearn.model_selection import train_test_split\n",
        "from sklearn.naive_bayes import MultinomialNB\n",
        "from sklearn.metrics import accuracy_score, classification_report\n",
        "from sklearn.pipeline import make_pipeline\n",
        "x_train = [\n",
        "    \"buy cheap pills\",\n",
        "    \"limited offer just for you\",\n",
        "    \"meet singles in your area\",\n",
        "    \"hello how are you\",\n",
        "    \"let's schedule a meeting\",\n",
        "    \"please find the attached re\"\n",
        "]\n",
        "y_train = ['spam','spam','spam','ham','ham','ham']\n",
        "\n",
        "x_text = [\"cheap offer for report \",\"meeting singles tonight\"]\n",
        "\n",
        "model_no_smoothing = make_pipeline(CountVectorizer(),MultinomialNB(alpha = 0))\n",
        "model_no_smoothing.fit(x_train,y_train)\n",
        "y_pred = model_no_smoothing.predict(x_text)\n",
        "print(f\"predictions without smoothing: {y_pred}\")\n",
        "\n",
        "model_with_smoothing = make_pipeline(CountVectorizer(),MultinomialNB(alpha = 1))\n",
        "model_with_smoothing.fit(x_train,y_train)\n",
        "y_pred = model_with_smoothing.predict(x_text)\n",
        "print(f\"predictions with smoothing: {y_pred}\")"
      ],
      "metadata": {
        "id": "m1fSKVhV-OMW",
        "colab": {
          "base_uri": "https://localhost:8080/"
        },
        "outputId": "b9393f88-4d52-48f3-c0ca-1c01d48b0657"
      },
      "execution_count": null,
      "outputs": [
        {
          "output_type": "stream",
          "name": "stdout",
          "text": [
            "predictions without smoothing: ['spam' 'ham']\n",
            "predictions with smoothing: ['spam' 'ham']\n"
          ]
        },
        {
          "output_type": "stream",
          "name": "stderr",
          "text": [
            "/usr/local/lib/python3.11/dist-packages/sklearn/naive_bayes.py:898: RuntimeWarning: divide by zero encountered in log\n",
            "  self.feature_log_prob_ = np.log(smoothed_fc) - np.log(\n"
          ]
        }
      ]
    },
    {
      "cell_type": "code",
      "source": [
        "#14. Write a Python program to train an SVM Classifier and a Naïve Bayes Classifier on the same dataset and compare their accuracy.\n",
        "from sklearn.datasets import load_iris\n",
        "from sklearn.model_selection import train_test_split\n",
        "from sklearn.svm import SVC\n",
        "from sklearn.naive_bayes import GaussianNB\n",
        "\n",
        "x,y = load_iris(return_X_y = True)\n",
        "x_train,x_test,y_train,y_test = train_test_split(x,y,test_size=0.2,random_state=1)\n",
        "\n",
        "\n",
        "svm = SVC()\n",
        "svm.fit(x_train,y_train)\n",
        "svm_y_pred = svm.predict(x_test)\n",
        "\n",
        "gnb = GaussianNB()\n",
        "gnb.fit(x_train,y_train)\n",
        "gnb_y_pred = gnb.predict(x_test)\n",
        "\n",
        "from sklearn.metrics import accuracy_score\n",
        "svm_accuracy = accuracy_score(y_test,svm_y_pred)\n",
        "gnb_accuracy = accuracy_score(y_test,gnb_y_pred)\n",
        "\n",
        "print(f\"accuracy of svm: {svm_accuracy}\")\n",
        "print(f\"accuracy of gnb: {gnb_accuracy}\")\n"
      ],
      "metadata": {
        "colab": {
          "base_uri": "https://localhost:8080/"
        },
        "id": "02-minDokYKU",
        "outputId": "ef5f0ba7-9a4a-4b0a-cefc-9a179de7d46f"
      },
      "execution_count": null,
      "outputs": [
        {
          "output_type": "stream",
          "name": "stdout",
          "text": [
            "accuracy of svm: 0.9666666666666667\n",
            "accuracy of gnb: 0.9666666666666667\n"
          ]
        }
      ]
    },
    {
      "cell_type": "code",
      "source": [
        "#15. Write a Python program to perform feature selection before training a Naïve Bayes classifier and compare results.\n",
        "\n",
        "from sklearn.datasets import load_iris\n",
        "from sklearn.feature_selection import SelectKBest, chi2\n",
        "from sklearn.model_selection import train_test_split\n",
        "from sklearn.naive_bayes import GaussianNB\n",
        "from sklearn.metrics import accuracy_score\n",
        "\n",
        "x,y = load_iris(return_X_y = True)\n",
        "x_train,x_test,y_train,y_test = train_test_split(x,y,test_size=0.2,random_state=1)\n",
        "\n",
        "gnb_no_selection = GaussianNB()\n",
        "gnb_no_selection.fit(x_train,y_train)\n",
        "y_pred_no_selection = gnb_no_selection.predict(x_test)\n",
        "accuracy_no_selection = accuracy_score(y_test,y_pred_no_selection)\n",
        "\n",
        "selector = SelectKBest(chi2,k = 2)\n",
        "\n",
        "x_train_selected = selector.fit_transform(x_train,y_train)\n",
        "x_test_selected = selector.transform(x_test)\n",
        "\n",
        "gnb_with_selection = GaussianNB()\n",
        "gnb_with_selection.fit(x_train_selected,y_train)\n",
        "y_pred_selected = gnb_with_selection.predict(x_test_selected)\n",
        "accuracy_with_selection = accuracy_score(y_test,y_pred_selected)\n",
        "\n",
        "print(f\"accuracy without feature selection: {accuracy_no_selection}\")\n",
        "print(f\"accuracy with feature selection: {accuracy_with_selection}\")"
      ],
      "metadata": {
        "colab": {
          "base_uri": "https://localhost:8080/"
        },
        "id": "1A8jb3SEAmmJ",
        "outputId": "57a96128-146e-467c-80e6-7dd9ee1f973d"
      },
      "execution_count": 75,
      "outputs": [
        {
          "output_type": "stream",
          "name": "stdout",
          "text": [
            "accuracy without feature selection: 0.9666666666666667\n",
            "accuracy with feature selection: 0.9666666666666667\n"
          ]
        }
      ]
    },
    {
      "cell_type": "code",
      "source": [
        "#16. Write a Python program to train an SVM Classifier using One-vs-Rest (OvR) and One-vs-One (OvO) strategies on the Wine dataset and compare their accuracy.\n",
        "from sklearn.datasets import load_wine\n",
        "from sklearn.model_selection import train_test_split\n",
        "from sklearn.svm import SVC\n",
        "from sklearn.multiclass import OneVsRestClassifier, OneVsOneClassifier\n",
        "from sklearn.metrics import accuracy_score\n",
        "\n",
        "x,y = load_wine(return_X_y = True)\n",
        "x_train,x_test,y_train,y_test = train_test_split(x,y,test_size=0.2,random_state=1)\n",
        "\n",
        "svm_ovr = OneVsRestClassifier(SVC())\n",
        "svm_ovr.fit(x_train,y_train)\n",
        "svm_ovr_pred = svm_ovr.predict(x_test)\n",
        "svm_ovr_acc = accuracy_score(y_test,svm_ovr_pred)\n",
        "\n",
        "svm_ovo = OneVsOneClassifier(SVC())\n",
        "svm_ovo.fit(x_train,y_train)\n",
        "svm_ovo_pred = svm_ovo.predict(x_test)\n",
        "svm_ovo_acc = accuracy_score(y_test,svm_ovo_pred)\n",
        "\n",
        "print(f\"accuracy of svm_ovr: {svm_ovr_acc}\")\n",
        "print(f\"accuracy of svm_ovr: {svm_ovo_acc}\")"
      ],
      "metadata": {
        "colab": {
          "base_uri": "https://localhost:8080/"
        },
        "id": "lOu661ZqoA9T",
        "outputId": "3665bd94-686d-4b30-df01-8d5580f393a7"
      },
      "execution_count": null,
      "outputs": [
        {
          "output_type": "stream",
          "name": "stdout",
          "text": [
            "accuracy of svm_ovr: 0.6944444444444444\n",
            "accuracy of svm_ovr: 0.6944444444444444\n"
          ]
        }
      ]
    },
    {
      "cell_type": "code",
      "source": [
        "#17. Write a Python program to train an SVM Classifier using Linear, Polynomial, and RBF kernels on the Breast Cancer dataset and compare their accuracy.\n",
        "from sklearn.datasets import load_breast_cancer\n",
        "from sklearn.model_selection import train_test_split\n",
        "from sklearn.svm import SVC\n",
        "from sklearn.metrics import accuracy_score\n",
        "\n",
        "x,y = load_breast_cancer(return_X_y = True)\n",
        "x_train,x_test,y_train,y_test = train_test_split(x,y,test_size = 0.20,random_state = 1)\n",
        "\n",
        "svm = SVC(kernel = \"linear\")\n",
        "svm.fit(x_train,y_train)\n",
        "y_pred_linear = svm.predict(x_test)\n",
        "accuracy_linear = accuracy_score(y_test,y_pred_linear)\n",
        "\n",
        "svm = SVC(kernel = \"poly\",degree = 3)\n",
        "svm.fit(x_train,y_train)\n",
        "y_pred_poly = svm.predict(x_test)\n",
        "accuracy_poly = accuracy_score(y_test,y_pred_poly)\n",
        "\n",
        "svm = SVC(kernel = \"rbf\")\n",
        "svm.fit(x_train,y_train)\n",
        "y_pred_rbf = svm.predict(x_test)\n",
        "accuracy_rbf = accuracy_score(y_test,y_pred_rbf)\n",
        "\n",
        "print(f\"accuracy with linear kernel: {accuracy_linear}\")\n",
        "print(f\"accuracy with poly kernel: {accuracy_poly}\")\n",
        "print(f\"accuracy with rbf kernel: {accuracy_rbf}\")"
      ],
      "metadata": {
        "colab": {
          "base_uri": "https://localhost:8080/"
        },
        "id": "3Awqe2Esrbl6",
        "outputId": "940e5757-01e6-47da-91bd-5699160590d8"
      },
      "execution_count": null,
      "outputs": [
        {
          "output_type": "stream",
          "name": "stdout",
          "text": [
            "accuracy with linear kernel: 0.956140350877193\n",
            "accuracy with poly kernel: 0.8947368421052632\n",
            "accuracy with rbf kernel: 0.9035087719298246\n"
          ]
        }
      ]
    },
    {
      "cell_type": "code",
      "source": [
        "#18. Write a Python program to train an SVM Classifier using Stratified K-Fold Cross-Validation and compute the average accuracy.\n",
        "from sklearn.datasets import load_iris\n",
        "import numpy as np\n",
        "from sklearn.model_selection import StratifiedKFold,cross_val_score\n",
        "from sklearn.svm import SVC\n",
        "from sklearn.metrics import accuracy_score\n",
        "\n",
        "x,y = load_iris(return_X_y = True)\n",
        "skf = StratifiedKFold(n_splits = 5)\n",
        "\n",
        "smv = SVC(kernel = \"linear\")\n",
        "skf = StratifiedKFold(n_splits = 5,shuffle = True,random_state = 1)\n",
        "\n",
        "scores = cross_val_score(svm,x,y,cv = skf)\n",
        "\n",
        "avg_accuracy = np.mean(scores)\n",
        "print(f\"Accuracy scores for each fold: {scores}\")\n",
        "print(f\"Average accuracy using Stratified K-Fold Cross-Validation: {avg_accuracy}\")"
      ],
      "metadata": {
        "colab": {
          "base_uri": "https://localhost:8080/"
        },
        "id": "twgYcn7BrqXC",
        "outputId": "735b5656-4a48-491c-efca-36114e57e8d0"
      },
      "execution_count": null,
      "outputs": [
        {
          "output_type": "stream",
          "name": "stdout",
          "text": [
            "Accuracy scores for each fold: [0.93333333 1.         0.93333333 1.         0.93333333]\n",
            "Average accuracy using Stratified K-Fold Cross-Validation: 0.96\n"
          ]
        }
      ]
    },
    {
      "cell_type": "code",
      "source": [
        "#19. Write a Python program to train a Naïve Bayes classifier using different prior probabilities and compare performance.\n",
        "from sklearn.datasets import load_iris\n",
        "from sklearn.model_selection import train_test_split\n",
        "from sklearn.naive_bayes import GaussianNB\n",
        "from sklearn.metrics import accuracy_score,classification_report\n",
        "\n",
        "x,y = load_iris(return_X_y = True)\n",
        "x_train,x_test,y_train,y_test = train_test_split(x,y,test_size = 0.2,random_state = 1)\n",
        "\n",
        "prior_options = [\n",
        "    None,\n",
        "    [1/3,1/3,1/3],\n",
        "    [0.2,0.3,0.5],\n",
        "    [0.5,0.2,0.3]\n",
        "]\n",
        "\n",
        "for priors in prior_options:\n",
        "  if priors is None:\n",
        "    print(\"\\nTraining with default empirical priors:\")\n",
        "  else:\n",
        "    print(f\"\\nTraining with custom priors: {priors}\")\n",
        "gnb = GaussianNB(priors = priors)\n",
        "gnb.fit(x_train,y_train)\n",
        "y_pred = gnb.predict(x_test)\n",
        "\n",
        "accuracy = accuracy_score(y_test,y_pred)\n",
        "report = classification_report(y_test,y_pred)\n",
        "\n",
        "print(f\"Accuracy: {accuracy}\")\n",
        "print(\"Classification Report:\")\n",
        "\n",
        "print(report)\n"
      ],
      "metadata": {
        "colab": {
          "base_uri": "https://localhost:8080/"
        },
        "id": "heu2_woHwFJ4",
        "outputId": "016b06b2-5ad4-4945-ba6f-fa172b84057e"
      },
      "execution_count": null,
      "outputs": [
        {
          "output_type": "stream",
          "name": "stdout",
          "text": [
            "\n",
            "Training with default empirical priors:\n",
            "\n",
            "Training with custom priors: [0.3333333333333333, 0.3333333333333333, 0.3333333333333333]\n",
            "\n",
            "Training with custom priors: [0.2, 0.3, 0.5]\n",
            "\n",
            "Training with custom priors: [0.5, 0.2, 0.3]\n",
            "Accuracy: 0.9333333333333333\n",
            "Classification Report:\n",
            "              precision    recall  f1-score   support\n",
            "\n",
            "           0       1.00      1.00      1.00        11\n",
            "           1       1.00      0.85      0.92        13\n",
            "           2       0.75      1.00      0.86         6\n",
            "\n",
            "    accuracy                           0.93        30\n",
            "   macro avg       0.92      0.95      0.92        30\n",
            "weighted avg       0.95      0.93      0.94        30\n",
            "\n"
          ]
        }
      ]
    },
    {
      "cell_type": "code",
      "source": [
        "#20. Write a Python program to perform Recursive Feature Elimination (RFE) before training an SVM Classifier and compare accuracy.\n",
        "from sklearn.datasets import load_iris\n",
        "from sklearn.feature_selection import RFE\n",
        "from sklearn.svm import SVC\n",
        "from sklearn.model_selection import train_test_split\n",
        "from sklearn.metrics import accuracy_score\n",
        "\n",
        "x, y = load_iris(return_X_y=True)\n",
        "\n",
        "\n",
        "x_train, x_test, y_train, y_test = train_test_split(x, y, test_size=0.2, random_state=1)\n",
        "\n",
        "\n",
        "svm_no_rfe = SVC(kernel=\"linear\")\n",
        "svm_no_rfe.fit(x_train, y_train)\n",
        "y_pred_no_rfe = svm_no_rfe.predict(x_test)\n",
        "accuracy_no_rfe = accuracy_score(y_test, y_pred_no_rfe)\n",
        "\n",
        "print(f\"Accuracy without RFE: {accuracy_no_rfe}\")\n",
        "\n",
        "estimator = SVC(kernel=\"linear\")\n",
        "\n",
        "rfe = RFE(estimator=estimator, n_features_to_select=2)\n",
        "\n",
        "\n",
        "rfe.fit(x_train, y_train)\n",
        "\n",
        "\n",
        "x_train_selected = rfe.transform(x_train)\n",
        "x_test_selected = rfe.transform(x_test)\n",
        "\n",
        "svm_with_rfe = SVC(kernel=\"linear\")\n",
        "svm_with_rfe.fit(x_train_selected, y_train)\n",
        "y_pred_with_rfe = svm_with_rfe.predict(x_test_selected)\n",
        "accuracy_with_rfe = accuracy_score(y_test, y_pred_with_rfe)\n",
        "\n",
        "print(f\"Accuracy with RFE selected features): {accuracy_with_rfe}\")\n"
      ],
      "metadata": {
        "colab": {
          "base_uri": "https://localhost:8080/"
        },
        "id": "UFVUAzHux19L",
        "outputId": "4463ed99-2e40-4f4f-a65a-63fd96f24d27"
      },
      "execution_count": null,
      "outputs": [
        {
          "output_type": "stream",
          "name": "stdout",
          "text": [
            "Accuracy without RFE: 1.0\n",
            "Accuracy with RFE selected features): 0.9666666666666667\n"
          ]
        }
      ]
    },
    {
      "cell_type": "code",
      "source": [
        "#21.Write a Python program to train an SVM Classifier and evaluate its performance using Precision, Recall, and F1-Score instead of accuracy\n",
        "from sklearn.datasets import load_iris\n",
        "from sklearn.model_selection import train_test_split\n",
        "from sklearn.svm import SVC\n",
        "from sklearn.metrics import precision_score, recall_score, f1_score, classification_report\n",
        "\n",
        "\n",
        "x, y = load_iris(return_X_y=True)\n",
        "\n",
        "\n",
        "x_train, x_test, y_train, y_test = train_test_split(x, y, test_size=0.20, random_state=1)\n",
        "\n",
        "\n",
        "svm = SVC(kernel=\"linear\")\n",
        "svm.fit(x_train, y_train)\n",
        "\n",
        "\n",
        "y_pred = svm.predict(x_test)\n",
        "\n",
        "precision = precision_score(y_test, y_pred, average='weighted')\n",
        "recall = recall_score(y_test, y_pred, average='weighted')\n",
        "f1 = f1_score(y_test, y_pred, average='weighted')\n",
        "\n",
        "print(f\"Precision: {precision}\")\n",
        "print(f\"Recall: {recall}\")\n",
        "print(f\"F1-Score: {f1}\")\n",
        "\n",
        "\n",
        "print(\"\\nClassification Report:\")\n",
        "print(classification_report(y_test, y_pred))\n",
        "\n"
      ],
      "metadata": {
        "id": "MYJ7epxfz-9A",
        "colab": {
          "base_uri": "https://localhost:8080/"
        },
        "outputId": "48420397-d188-4b95-9f88-35ab280121ad"
      },
      "execution_count": 51,
      "outputs": [
        {
          "output_type": "stream",
          "name": "stdout",
          "text": [
            "Precision: 1.0\n",
            "Recall: 1.0\n",
            "F1-Score: 1.0\n",
            "\n",
            "Classification Report:\n",
            "              precision    recall  f1-score   support\n",
            "\n",
            "           0       1.00      1.00      1.00        11\n",
            "           1       1.00      1.00      1.00        13\n",
            "           2       1.00      1.00      1.00         6\n",
            "\n",
            "    accuracy                           1.00        30\n",
            "   macro avg       1.00      1.00      1.00        30\n",
            "weighted avg       1.00      1.00      1.00        30\n",
            "\n"
          ]
        }
      ]
    },
    {
      "cell_type": "code",
      "source": [
        "#22.Write a Python program to train a Naïve Bayes Classifier and evaluate its performance using Log Loss (Cross-Entropy Loss).\n",
        "from sklearn.datasets import load_iris\n",
        "from sklearn.model_selection import train_test_split\n",
        "from sklearn.naive_bayes import GaussianNB\n",
        "from sklearn.metrics import log_loss\n",
        "\n",
        "x,y = load_iris(return_X_y = True)\n",
        "\n",
        "x_train,x_test,y_train,y_test = train_test_split(x,y,test_size = 0.20,random_state = 1)\n",
        "\n",
        "\n",
        "gnb = GaussianNB()\n",
        "gnb.fit(x_train,y_train)\n",
        "\n",
        "y_pred_proba = gnb.predict_proba(x_test)\n",
        "\n",
        "\n",
        "log_loss_value = log_loss(y_test,y_pred_proba,labels=[0,1,2])\n",
        "\n",
        "print(f\"Log Loss (Cross-Entropy Loss): {log_loss_value}\")\n",
        "\n"
      ],
      "metadata": {
        "colab": {
          "base_uri": "https://localhost:8080/"
        },
        "id": "8U4qqVY543Aa",
        "outputId": "61b63045-b728-479b-a229-b48a8ebb9780"
      },
      "execution_count": 61,
      "outputs": [
        {
          "output_type": "stream",
          "name": "stdout",
          "text": [
            "Log Loss (Cross-Entropy Loss): 0.13427337928832633\n"
          ]
        }
      ]
    },
    {
      "cell_type": "code",
      "source": [
        "#23. Write a Python program to train an SVM Classifier and visualize the Confusion Matrix using seaborn.\n",
        "import seaborn as sns\n",
        "import matplotlib.pyplot as plt\n",
        "from sklearn.datasets import load_iris\n",
        "from sklearn.model_selection import train_test_split\n",
        "from sklearn.svm import SVC\n",
        "from sklearn.metrics import confusion_matrix\n",
        "\n",
        "x,y = load_iris(return_X_y = True)\n",
        "x_train,x_test,y_train,y_test = train_test_split(x,y,test_size = 0.20,random_state=1)\n",
        "\n",
        "svm = SVC(kernel = \"linear\")\n",
        "svm.fit(x_train,y_train)\n",
        "y_pred = svm.predict(x_test)\n",
        "\n",
        "conf_matrix = confusion_matrix(y_test,y_pred)\n",
        "print(\"Confusion Matrix:\")\n",
        "print(conf_matrix)\n",
        "\n",
        "sns.heatmap(conf_matrix,annot = True,fmt = 'd',cmap = 'Blues',xticklabels=load_iris().target_names,yticklabels=load_iris().target_names)\n",
        "plt.xlabel('Predicted Label')\n",
        "plt.ylabel('True Label')\n",
        "plt.title('Confusion Matrix')\n",
        "plt.show()"
      ],
      "metadata": {
        "colab": {
          "base_uri": "https://localhost:8080/",
          "height": 543
        },
        "id": "3afA9j3e53OP",
        "outputId": "b78347a0-1e42-4332-e6bf-9ecb695f80cc"
      },
      "execution_count": 66,
      "outputs": [
        {
          "output_type": "stream",
          "name": "stdout",
          "text": [
            "Confusion Matrix:\n",
            "[[11  0  0]\n",
            " [ 0 13  0]\n",
            " [ 0  0  6]]\n"
          ]
        },
        {
          "output_type": "display_data",
          "data": {
            "text/plain": [
              "<Figure size 640x480 with 2 Axes>"
            ],
            "image/png": "[encoded data removed]"
          },
          "metadata": {}
        }
      ]
    },
    {
      "cell_type": "code",
      "source": [
        "#24. Write a Python program to train an SVM Regressor (SVR) and evaluate its performance using Mean Absolute Error (MAE) instead of MSE.\n",
        "import numpy as np\n",
        "from sklearn.datasets import make_regression\n",
        "from sklearn.model_selection import train_test_split\n",
        "from sklearn.svm import SVR\n",
        "from sklearn.metrics import mean_absolute_error,mean_squared_error\n",
        "\n",
        "x,y = make_regression(n_samples = 100,n_features = 5,random_state = 1)\n",
        "\n",
        "x_train,x_test,y_train,y_test = train_test_split(x,y,test_size=0.2,random_state = 1)\n",
        "\n",
        "svr = SVR()\n",
        "svr.fit(x_train,y_train)\n",
        "y_pred = svr.predict(x_test)\n",
        "\n",
        "mae = mean_absolute_error(y_test,y_pred)\n",
        "mse = mean_squared_error(y_test,y_pred)\n",
        "\n",
        "print(f\"Mean Absolute Error (MAE): {mae}\")\n",
        "print(f\"Mean Squared Error (MSE): {mse}\")\n"
      ],
      "metadata": {
        "colab": {
          "base_uri": "https://localhost:8080/"
        },
        "id": "0B1_NizV8cDU",
        "outputId": "233986a4-d873-46cf-e5fe-af66b27d3b99"
      },
      "execution_count": 68,
      "outputs": [
        {
          "output_type": "stream",
          "name": "stdout",
          "text": [
            "Mean Absolute Error (MAE): 59.18139266771393\n",
            "Mean Squared Error (MSE): 5230.89109892606\n"
          ]
        }
      ]
    },
    {
      "cell_type": "code",
      "source": [
        "#25.Write a Python program to train a Naïve Bayes classifier and evaluate its performance using the ROC-AUC score.\n",
        "from sklearn.datasets import load_iris\n",
        "from sklearn.model_selection import train_test_split\n",
        "from sklearn.naive_bayes import GaussianNB\n",
        "from sklearn.metrics import roc_auc_score\n",
        "\n",
        "x,y = load_iris(return_X_y = True)\n",
        "\n",
        "x_train,x_test,y_train,y_test = train_test_split(x,y,test_size = 0.20,random_state = 1)\n",
        "\n",
        "gnb = GaussianNB()\n",
        "gnb.fit(x_train,y_train)\n",
        "y_pred_proba = gnb.predict_proba(x_test)\n",
        "\n",
        "roc_auc = roc_auc_score(y_test,y_pred_proba,multi_class = 'ovr')\n",
        "\n",
        "print(roc_auc)\n"
      ],
      "metadata": {
        "colab": {
          "base_uri": "https://localhost:8080/"
        },
        "id": "UklhyFCl8y1y",
        "outputId": "6d097a62-49e2-498c-d857-f5348322b965"
      },
      "execution_count": 70,
      "outputs": [
        {
          "output_type": "stream",
          "name": "stdout",
          "text": [
            "1.0\n"
          ]
        }
      ]
    },
    {
      "cell_type": "code",
      "source": [
        "#26. Write a Python program to train an SVM Classifier and visualize the Precision-Recall Curve.\n",
        "import matplotlib.pyplot as plt\n",
        "from sklearn.datasets import load_iris\n",
        "from sklearn.model_selection import train_test_split\n",
        "from sklearn.svm import SVC\n",
        "from sklearn.metrics import precision_recall_curve\n",
        "from sklearn.preprocessing import LabelBinarizer\n",
        "\n",
        "\n",
        "x, y = load_iris(return_X_y=True)\n",
        "\n",
        "\n",
        "x_binary = x[y != 0]\n",
        "y_binary = y[y != 0]\n",
        "y_binary[y_binary == 1] = 0  # Recode Versicolor to 0\n",
        "y_binary[y_binary == 2] = 1  # Recode Virginica to 1\n",
        "\n",
        "\n",
        "x_train, x_test, y_train, y_test = train_test_split(x_binary, y_binary, test_size=0.20, random_state=1)\n",
        "\n",
        "\n",
        "svm = SVC(kernel=\"linear\", probability=True, random_state=1)\n",
        "svm.fit(x_train, y_train)\n",
        "\n",
        "y_scores = svm.predict_proba(x_test)[:, 1]\n",
        "\n",
        "\n",
        "precision, recall, thresholds = precision_recall_curve(y_test, y_scores)\n",
        "\n",
        "plt.figure(figsize=(8, 6))\n",
        "plt.plot(recall, precision, marker='.')\n",
        "plt.xlabel('Recall')\n",
        "plt.ylabel('Precision')\n",
        "plt.title('Precision-Recall Curve')\n",
        "plt.grid(True)\n",
        "plt.show()\n",
        "\n"
      ],
      "metadata": {
        "colab": {
          "base_uri": "https://localhost:8080/",
          "height": 544
        },
        "id": "VlaKCHAT-QT7",
        "outputId": "5aae1e4e-44ac-4deb-ff08-1601e492446b"
      },
      "execution_count": 73,
      "outputs": [
        {
          "output_type": "display_data",
          "data": {
            "text/plain": [
              "<Figure size 800x600 with 1 Axes>"
            ],
            "image/png": "[encoded data removed]"
          },
          "metadata": {}
        }
      ]
    },
    {
      "cell_type": "code",
      "source": [],
      "metadata": {
        "id": "e2kidbgy-eg5"
      },
      "execution_count": null,
      "outputs": []
    }
  ]
}